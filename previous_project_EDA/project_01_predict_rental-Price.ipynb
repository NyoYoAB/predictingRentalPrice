{
  "cells": [
    {
      "cell_type": "markdown",
      "metadata": {},
      "source": [
        "# **Project Part 01 - EDA on Housing DataSet**"
      ]
    },
    {
      "cell_type": "markdown",
      "metadata": {},
      "source": [
        "## <font size=\"5\">**Setting up the project** </font>"
      ]
    },
    {
      "cell_type": "code",
      "execution_count": 1,
      "metadata": {},
      "outputs": [],
      "source": [
        "# Import Liabraries:\n",
        "import numpy as np\n",
        "import pandas as pd\n",
        "import matplotlib.pyplot as plt\n",
        "import seaborn as sns\n",
        "\n",
        "# Set the style for all plots to a default Matplotlib style\n",
        "plt.style.use('default')\n",
        "\n",
        "# Import Data:\n",
        "house_df = pd.read_csv(\"raw_house_data.csv\")"
      ]
    },
    {
      "cell_type": "markdown",
      "metadata": {},
      "source": [
        "## <font size=\"5\">**Initial data inspection** </font>\n",
        "<font size=\"3\">In this part, we will do an initial data inspection to get a first idea about it.</font>"
      ]
    },
    {
      "cell_type": "code",
      "execution_count": 2,
      "metadata": {},
      "outputs": [
        {
          "name": "stdout",
          "output_type": "stream",
          "text": [
            "Dataset Information:\n",
            "<class 'pandas.core.frame.DataFrame'>\n",
            "RangeIndex: 5000 entries, 0 to 4999\n",
            "Data columns (total 16 columns):\n",
            " #   Column            Non-Null Count  Dtype  \n",
            "---  ------            --------------  -----  \n",
            " 0   MLS               5000 non-null   int64  \n",
            " 1   sold_price        5000 non-null   float64\n",
            " 2   zipcode           5000 non-null   int64  \n",
            " 3   longitude         5000 non-null   float64\n",
            " 4   latitude          5000 non-null   float64\n",
            " 5   lot_acres         4990 non-null   float64\n",
            " 6   taxes             5000 non-null   float64\n",
            " 7   year_built        5000 non-null   int64  \n",
            " 8   bedrooms          5000 non-null   int64  \n",
            " 9   bathrooms         4994 non-null   float64\n",
            " 10  sqrt_ft           4944 non-null   float64\n",
            " 11  garage            4993 non-null   float64\n",
            " 12  kitchen_features  4967 non-null   object \n",
            " 13  fireplaces        5000 non-null   object \n",
            " 14  floor_covering    4999 non-null   object \n",
            " 15  HOA               4438 non-null   object \n",
            "dtypes: float64(8), int64(4), object(4)\n",
            "memory usage: 625.1+ KB\n"
          ]
        }
      ],
      "source": [
        "# Display basic information about the dataset\n",
        "print(\"Dataset Information:\")\n",
        "house_df.info()"
      ]
    },
    {
      "cell_type": "code",
      "execution_count": 3,
      "metadata": {},
      "outputs": [
        {
          "name": "stdout",
          "output_type": "stream",
          "text": [
            "Summary Statistics:\n"
          ]
        },
        {
          "data": {
            "text/html": [
              "<div>\n",
              "<style scoped>\n",
              "    .dataframe tbody tr th:only-of-type {\n",
              "        vertical-align: middle;\n",
              "    }\n",
              "\n",
              "    .dataframe tbody tr th {\n",
              "        vertical-align: top;\n",
              "    }\n",
              "\n",
              "    .dataframe thead th {\n",
              "        text-align: right;\n",
              "    }\n",
              "</style>\n",
              "<table border=\"1\" class=\"dataframe\">\n",
              "  <thead>\n",
              "    <tr style=\"text-align: right;\">\n",
              "      <th></th>\n",
              "      <th>MLS</th>\n",
              "      <th>sold_price</th>\n",
              "      <th>zipcode</th>\n",
              "      <th>longitude</th>\n",
              "      <th>latitude</th>\n",
              "      <th>lot_acres</th>\n",
              "      <th>taxes</th>\n",
              "      <th>year_built</th>\n",
              "      <th>bedrooms</th>\n",
              "      <th>bathrooms</th>\n",
              "      <th>sqrt_ft</th>\n",
              "      <th>garage</th>\n",
              "    </tr>\n",
              "  </thead>\n",
              "  <tbody>\n",
              "    <tr>\n",
              "      <th>count</th>\n",
              "      <td>5.000000e+03</td>\n",
              "      <td>5.000000e+03</td>\n",
              "      <td>5000.000000</td>\n",
              "      <td>5000.000000</td>\n",
              "      <td>5000.000000</td>\n",
              "      <td>4990.000000</td>\n",
              "      <td>5.000000e+03</td>\n",
              "      <td>5000.00000</td>\n",
              "      <td>5000.000000</td>\n",
              "      <td>4994.000000</td>\n",
              "      <td>4944.000000</td>\n",
              "      <td>4993.000000</td>\n",
              "    </tr>\n",
              "    <tr>\n",
              "      <th>mean</th>\n",
              "      <td>2.127070e+07</td>\n",
              "      <td>7.746262e+05</td>\n",
              "      <td>85723.025600</td>\n",
              "      <td>-110.912107</td>\n",
              "      <td>32.308512</td>\n",
              "      <td>4.661317</td>\n",
              "      <td>9.402828e+03</td>\n",
              "      <td>1992.32800</td>\n",
              "      <td>3.933800</td>\n",
              "      <td>3.829896</td>\n",
              "      <td>3716.366828</td>\n",
              "      <td>2.816143</td>\n",
              "    </tr>\n",
              "    <tr>\n",
              "      <th>std</th>\n",
              "      <td>2.398508e+06</td>\n",
              "      <td>3.185556e+05</td>\n",
              "      <td>38.061712</td>\n",
              "      <td>0.120629</td>\n",
              "      <td>0.178028</td>\n",
              "      <td>51.685230</td>\n",
              "      <td>1.729385e+05</td>\n",
              "      <td>65.48614</td>\n",
              "      <td>1.245362</td>\n",
              "      <td>1.387063</td>\n",
              "      <td>1120.683515</td>\n",
              "      <td>1.192946</td>\n",
              "    </tr>\n",
              "    <tr>\n",
              "      <th>min</th>\n",
              "      <td>3.042851e+06</td>\n",
              "      <td>1.690000e+05</td>\n",
              "      <td>85118.000000</td>\n",
              "      <td>-112.520168</td>\n",
              "      <td>31.356362</td>\n",
              "      <td>0.000000</td>\n",
              "      <td>0.000000e+00</td>\n",
              "      <td>0.00000</td>\n",
              "      <td>1.000000</td>\n",
              "      <td>1.000000</td>\n",
              "      <td>1100.000000</td>\n",
              "      <td>0.000000</td>\n",
              "    </tr>\n",
              "    <tr>\n",
              "      <th>25%</th>\n",
              "      <td>2.140718e+07</td>\n",
              "      <td>5.850000e+05</td>\n",
              "      <td>85718.000000</td>\n",
              "      <td>-110.979260</td>\n",
              "      <td>32.277484</td>\n",
              "      <td>0.580000</td>\n",
              "      <td>4.803605e+03</td>\n",
              "      <td>1987.00000</td>\n",
              "      <td>3.000000</td>\n",
              "      <td>3.000000</td>\n",
              "      <td>3047.000000</td>\n",
              "      <td>2.000000</td>\n",
              "    </tr>\n",
              "    <tr>\n",
              "      <th>50%</th>\n",
              "      <td>2.161469e+07</td>\n",
              "      <td>6.750000e+05</td>\n",
              "      <td>85737.000000</td>\n",
              "      <td>-110.923420</td>\n",
              "      <td>32.318517</td>\n",
              "      <td>0.990000</td>\n",
              "      <td>6.223760e+03</td>\n",
              "      <td>1999.00000</td>\n",
              "      <td>4.000000</td>\n",
              "      <td>4.000000</td>\n",
              "      <td>3512.000000</td>\n",
              "      <td>3.000000</td>\n",
              "    </tr>\n",
              "    <tr>\n",
              "      <th>75%</th>\n",
              "      <td>2.180480e+07</td>\n",
              "      <td>8.350000e+05</td>\n",
              "      <td>85749.000000</td>\n",
              "      <td>-110.859078</td>\n",
              "      <td>32.394334</td>\n",
              "      <td>1.757500</td>\n",
              "      <td>8.082830e+03</td>\n",
              "      <td>2006.00000</td>\n",
              "      <td>4.000000</td>\n",
              "      <td>4.000000</td>\n",
              "      <td>4130.250000</td>\n",
              "      <td>3.000000</td>\n",
              "    </tr>\n",
              "    <tr>\n",
              "      <th>max</th>\n",
              "      <td>2.192856e+07</td>\n",
              "      <td>5.300000e+06</td>\n",
              "      <td>86323.000000</td>\n",
              "      <td>-109.454637</td>\n",
              "      <td>34.927884</td>\n",
              "      <td>2154.000000</td>\n",
              "      <td>1.221508e+07</td>\n",
              "      <td>2019.00000</td>\n",
              "      <td>36.000000</td>\n",
              "      <td>36.000000</td>\n",
              "      <td>22408.000000</td>\n",
              "      <td>30.000000</td>\n",
              "    </tr>\n",
              "  </tbody>\n",
              "</table>\n",
              "</div>"
            ],
            "text/plain": [
              "                MLS    sold_price       zipcode    longitude     latitude  \\\n",
              "count  5.000000e+03  5.000000e+03   5000.000000  5000.000000  5000.000000   \n",
              "mean   2.127070e+07  7.746262e+05  85723.025600  -110.912107    32.308512   \n",
              "std    2.398508e+06  3.185556e+05     38.061712     0.120629     0.178028   \n",
              "min    3.042851e+06  1.690000e+05  85118.000000  -112.520168    31.356362   \n",
              "25%    2.140718e+07  5.850000e+05  85718.000000  -110.979260    32.277484   \n",
              "50%    2.161469e+07  6.750000e+05  85737.000000  -110.923420    32.318517   \n",
              "75%    2.180480e+07  8.350000e+05  85749.000000  -110.859078    32.394334   \n",
              "max    2.192856e+07  5.300000e+06  86323.000000  -109.454637    34.927884   \n",
              "\n",
              "         lot_acres         taxes  year_built     bedrooms    bathrooms  \\\n",
              "count  4990.000000  5.000000e+03  5000.00000  5000.000000  4994.000000   \n",
              "mean      4.661317  9.402828e+03  1992.32800     3.933800     3.829896   \n",
              "std      51.685230  1.729385e+05    65.48614     1.245362     1.387063   \n",
              "min       0.000000  0.000000e+00     0.00000     1.000000     1.000000   \n",
              "25%       0.580000  4.803605e+03  1987.00000     3.000000     3.000000   \n",
              "50%       0.990000  6.223760e+03  1999.00000     4.000000     4.000000   \n",
              "75%       1.757500  8.082830e+03  2006.00000     4.000000     4.000000   \n",
              "max    2154.000000  1.221508e+07  2019.00000    36.000000    36.000000   \n",
              "\n",
              "            sqrt_ft       garage  \n",
              "count   4944.000000  4993.000000  \n",
              "mean    3716.366828     2.816143  \n",
              "std     1120.683515     1.192946  \n",
              "min     1100.000000     0.000000  \n",
              "25%     3047.000000     2.000000  \n",
              "50%     3512.000000     3.000000  \n",
              "75%     4130.250000     3.000000  \n",
              "max    22408.000000    30.000000  "
            ]
          },
          "execution_count": 3,
          "metadata": {},
          "output_type": "execute_result"
        }
      ],
      "source": [
        "# Display summary statistics of the numerical columns\n",
        "print(\"Summary Statistics:\")\n",
        "\n",
        "house_df.describe()"
      ]
    },
    {
      "cell_type": "code",
      "execution_count": 4,
      "metadata": {},
      "outputs": [
        {
          "name": "stdout",
          "output_type": "stream",
          "text": [
            "Missing Values:\n"
          ]
        },
        {
          "data": {
            "text/plain": [
              "MLS                   0\n",
              "sold_price            0\n",
              "zipcode               0\n",
              "longitude             0\n",
              "latitude              0\n",
              "lot_acres            10\n",
              "taxes                 0\n",
              "year_built            0\n",
              "bedrooms              0\n",
              "bathrooms             6\n",
              "sqrt_ft              56\n",
              "garage                7\n",
              "kitchen_features     33\n",
              "fireplaces            0\n",
              "floor_covering        1\n",
              "HOA                 562\n",
              "dtype: int64"
            ]
          },
          "execution_count": 4,
          "metadata": {},
          "output_type": "execute_result"
        }
      ],
      "source": [
        "# Check for missing values in each column\n",
        "print(\"Missing Values:\")\n",
        "house_df.isnull().sum()"
      ]
    },
    {
      "cell_type": "code",
      "execution_count": 5,
      "metadata": {},
      "outputs": [
        {
          "name": "stdout",
          "output_type": "stream",
          "text": [
            "First few rows:\n"
          ]
        },
        {
          "data": {
            "text/html": [
              "<div>\n",
              "<style scoped>\n",
              "    .dataframe tbody tr th:only-of-type {\n",
              "        vertical-align: middle;\n",
              "    }\n",
              "\n",
              "    .dataframe tbody tr th {\n",
              "        vertical-align: top;\n",
              "    }\n",
              "\n",
              "    .dataframe thead th {\n",
              "        text-align: right;\n",
              "    }\n",
              "</style>\n",
              "<table border=\"1\" class=\"dataframe\">\n",
              "  <thead>\n",
              "    <tr style=\"text-align: right;\">\n",
              "      <th></th>\n",
              "      <th>MLS</th>\n",
              "      <th>sold_price</th>\n",
              "      <th>zipcode</th>\n",
              "      <th>longitude</th>\n",
              "      <th>latitude</th>\n",
              "      <th>lot_acres</th>\n",
              "      <th>taxes</th>\n",
              "      <th>year_built</th>\n",
              "      <th>bedrooms</th>\n",
              "      <th>bathrooms</th>\n",
              "      <th>sqrt_ft</th>\n",
              "      <th>garage</th>\n",
              "      <th>kitchen_features</th>\n",
              "      <th>fireplaces</th>\n",
              "      <th>floor_covering</th>\n",
              "      <th>HOA</th>\n",
              "    </tr>\n",
              "  </thead>\n",
              "  <tbody>\n",
              "    <tr>\n",
              "      <th>0</th>\n",
              "      <td>21530491</td>\n",
              "      <td>5300000.0</td>\n",
              "      <td>85637</td>\n",
              "      <td>-110.378200</td>\n",
              "      <td>31.356362</td>\n",
              "      <td>2154.00</td>\n",
              "      <td>5272.00</td>\n",
              "      <td>1941</td>\n",
              "      <td>13</td>\n",
              "      <td>10.0</td>\n",
              "      <td>10500.0</td>\n",
              "      <td>0.0</td>\n",
              "      <td>Dishwasher, Freezer, Refrigerator, Oven</td>\n",
              "      <td>6</td>\n",
              "      <td>Mexican Tile, Wood</td>\n",
              "      <td>0</td>\n",
              "    </tr>\n",
              "    <tr>\n",
              "      <th>1</th>\n",
              "      <td>21529082</td>\n",
              "      <td>4200000.0</td>\n",
              "      <td>85646</td>\n",
              "      <td>-111.045371</td>\n",
              "      <td>31.594213</td>\n",
              "      <td>1707.00</td>\n",
              "      <td>10422.36</td>\n",
              "      <td>1997</td>\n",
              "      <td>2</td>\n",
              "      <td>2.0</td>\n",
              "      <td>7300.0</td>\n",
              "      <td>0.0</td>\n",
              "      <td>Dishwasher, Garbage Disposal</td>\n",
              "      <td>5</td>\n",
              "      <td>Natural Stone, Other</td>\n",
              "      <td>0</td>\n",
              "    </tr>\n",
              "    <tr>\n",
              "      <th>2</th>\n",
              "      <td>3054672</td>\n",
              "      <td>4200000.0</td>\n",
              "      <td>85646</td>\n",
              "      <td>-111.040707</td>\n",
              "      <td>31.594844</td>\n",
              "      <td>1707.00</td>\n",
              "      <td>10482.00</td>\n",
              "      <td>1997</td>\n",
              "      <td>2</td>\n",
              "      <td>3.0</td>\n",
              "      <td>NaN</td>\n",
              "      <td>NaN</td>\n",
              "      <td>Dishwasher, Garbage Disposal, Refrigerator</td>\n",
              "      <td>5</td>\n",
              "      <td>Natural Stone, Other: Rock</td>\n",
              "      <td>NaN</td>\n",
              "    </tr>\n",
              "    <tr>\n",
              "      <th>3</th>\n",
              "      <td>21919321</td>\n",
              "      <td>4500000.0</td>\n",
              "      <td>85646</td>\n",
              "      <td>-111.035925</td>\n",
              "      <td>31.645878</td>\n",
              "      <td>636.67</td>\n",
              "      <td>8418.58</td>\n",
              "      <td>1930</td>\n",
              "      <td>7</td>\n",
              "      <td>5.0</td>\n",
              "      <td>9019.0</td>\n",
              "      <td>4.0</td>\n",
              "      <td>Dishwasher, Double Sink, Pantry: Butler, Refri...</td>\n",
              "      <td>4</td>\n",
              "      <td>Ceramic Tile, Laminate, Wood</td>\n",
              "      <td>NaN</td>\n",
              "    </tr>\n",
              "    <tr>\n",
              "      <th>4</th>\n",
              "      <td>21306357</td>\n",
              "      <td>3411450.0</td>\n",
              "      <td>85750</td>\n",
              "      <td>-110.813768</td>\n",
              "      <td>32.285162</td>\n",
              "      <td>3.21</td>\n",
              "      <td>15393.00</td>\n",
              "      <td>1995</td>\n",
              "      <td>4</td>\n",
              "      <td>6.0</td>\n",
              "      <td>6396.0</td>\n",
              "      <td>3.0</td>\n",
              "      <td>Dishwasher, Garbage Disposal, Refrigerator, Mi...</td>\n",
              "      <td>5</td>\n",
              "      <td>Carpet, Concrete</td>\n",
              "      <td>55</td>\n",
              "    </tr>\n",
              "  </tbody>\n",
              "</table>\n",
              "</div>"
            ],
            "text/plain": [
              "        MLS  sold_price  zipcode   longitude   latitude  lot_acres     taxes  \\\n",
              "0  21530491   5300000.0    85637 -110.378200  31.356362    2154.00   5272.00   \n",
              "1  21529082   4200000.0    85646 -111.045371  31.594213    1707.00  10422.36   \n",
              "2   3054672   4200000.0    85646 -111.040707  31.594844    1707.00  10482.00   \n",
              "3  21919321   4500000.0    85646 -111.035925  31.645878     636.67   8418.58   \n",
              "4  21306357   3411450.0    85750 -110.813768  32.285162       3.21  15393.00   \n",
              "\n",
              "   year_built  bedrooms  bathrooms  sqrt_ft  garage  \\\n",
              "0        1941        13       10.0  10500.0     0.0   \n",
              "1        1997         2        2.0   7300.0     0.0   \n",
              "2        1997         2        3.0      NaN     NaN   \n",
              "3        1930         7        5.0   9019.0     4.0   \n",
              "4        1995         4        6.0   6396.0     3.0   \n",
              "\n",
              "                                    kitchen_features fireplaces  \\\n",
              "0            Dishwasher, Freezer, Refrigerator, Oven          6   \n",
              "1                       Dishwasher, Garbage Disposal          5   \n",
              "2         Dishwasher, Garbage Disposal, Refrigerator          5   \n",
              "3  Dishwasher, Double Sink, Pantry: Butler, Refri...          4   \n",
              "4  Dishwasher, Garbage Disposal, Refrigerator, Mi...          5   \n",
              "\n",
              "                 floor_covering  HOA  \n",
              "0            Mexican Tile, Wood    0  \n",
              "1          Natural Stone, Other    0  \n",
              "2    Natural Stone, Other: Rock  NaN  \n",
              "3  Ceramic Tile, Laminate, Wood  NaN  \n",
              "4              Carpet, Concrete   55  "
            ]
          },
          "execution_count": 5,
          "metadata": {},
          "output_type": "execute_result"
        }
      ],
      "source": [
        "# Display the first few rows of the dataset\n",
        "print(\"First few rows:\")\n",
        "house_df.head()"
      ]
    },
    {
      "cell_type": "code",
      "execution_count": 6,
      "metadata": {},
      "outputs": [
        {
          "name": "stdout",
          "output_type": "stream",
          "text": [
            "Unique Values per Column:\n"
          ]
        },
        {
          "data": {
            "text/plain": [
              "MLS                 5000\n",
              "sold_price          1092\n",
              "zipcode               56\n",
              "longitude           4762\n",
              "latitude            4821\n",
              "lot_acres            645\n",
              "taxes               4719\n",
              "year_built           112\n",
              "bedrooms              15\n",
              "bathrooms             19\n",
              "sqrt_ft             2361\n",
              "garage                21\n",
              "kitchen_features    1871\n",
              "fireplaces            11\n",
              "floor_covering       310\n",
              "HOA                  380\n",
              "dtype: int64"
            ]
          },
          "execution_count": 6,
          "metadata": {},
          "output_type": "execute_result"
        }
      ],
      "source": [
        "# Display the number of unique values\n",
        "print(\"Unique Values per Column:\")\n",
        "house_df.nunique()"
      ]
    },
    {
      "cell_type": "code",
      "execution_count": 7,
      "metadata": {},
      "outputs": [
        {
          "name": "stdout",
          "output_type": "stream",
          "text": [
            "\n",
            "Unique values in kitchen_features:\n",
            "kitchen_features\n",
            "Dishwasher, Garbage Disposal, Refrigerator, Microwave, Oven                                                                                                                     1719\n",
            "Dishwasher, Garbage Disposal, Microwave, Oven                                                                                                                                    270\n",
            "Compactor, Dishwasher, Garbage Disposal, Refrigerator, Microwave, Oven                                                                                                           189\n",
            "Dishwasher, Garbage Disposal, Refrigerator, Oven                                                                                                                                 181\n",
            "Dishwasher, Freezer, Garbage Disposal, Refrigerator, Microwave, Oven                                                                                                             127\n",
            "                                                                                                                                                                                ... \n",
            "Dishwasher, Double Sink, Garbage Disposal, Gas Range, Refrigerator, Oven: Gas Range/Oven                                                                                           1\n",
            "Dishwasher, Garbage Disposal, Gas Range, Island, Pantry: Closet, Refrigerator, Appliance Color: Stainless, Countertops: Caesarstone, Microwave: GE Profile, Oven: GE Profile       1\n",
            "Dishwasher, Gas Range, Countertops: Stained Concrete                                                                                                                               1\n",
            "Dishwasher, Garbage Disposal, Gas Range, Island, Lazy Susan, Pantry: Walk-In, Refrigerator, Appliance Color: Stainless, Countertops: granite, Microwave: yes, Oven: yes            1\n",
            "Dishwasher, Double Sink, Garbage Disposal, Gas Range, Island, Pantry: Cabinet, Refrigerator, Appliance Color: Stainless                                                            1\n",
            "Name: count, Length: 1871, dtype: int64\n",
            "Number of unique values: 1871\n",
            "\n",
            "Unique values in fireplaces:\n",
            "fireplaces\n",
            "1    1806\n",
            "2    1604\n",
            "3     849\n",
            "0     303\n",
            "4     294\n",
            "5      89\n",
            "       25\n",
            "6      18\n",
            "7       9\n",
            "9       2\n",
            "8       1\n",
            "Name: count, dtype: int64\n",
            "Number of unique values: 11\n",
            "\n",
            "Unique values in floor_covering:\n",
            "floor_covering\n",
            "Carpet, Ceramic Tile                               1235\n",
            "Carpet, Natural Stone                               579\n",
            "Carpet, Ceramic Tile, Wood                          258\n",
            "Ceramic Tile                                        247\n",
            "Concrete                                            242\n",
            "                                                   ... \n",
            "Carpet, Ceramic Tile, Other: Wood Laminate            1\n",
            "Concrete, Wood, Other: Tile bathrooms                 1\n",
            "Carpet, Ceramic Tile, Other: Wood Plan Laminate       1\n",
            "Carpet, Other: Marble                                 1\n",
            "Concrete, Other: Cork                                 1\n",
            "Name: count, Length: 310, dtype: int64\n",
            "Number of unique values: 310\n",
            "\n",
            "Unique values in HOA:\n",
            "HOA\n",
            "0         824\n",
            "5         123\n",
            "100       107\n",
            "50         85\n",
            "40         72\n",
            "         ... \n",
            "210         1\n",
            "112.38      1\n",
            "5.4         1\n",
            "36.66       1\n",
            "78.65       1\n",
            "Name: count, Length: 380, dtype: int64\n",
            "Number of unique values: 380\n"
          ]
        }
      ],
      "source": [
        "# Check the unique values in categorical columns\n",
        "categorical_columns = house_df.select_dtypes(include=['object']).columns\n",
        "for col in categorical_columns:\n",
        "    print(f\"\\nUnique values in {col}:\")\n",
        "    print(house_df[col].value_counts())\n",
        "    print(f\"Number of unique values: {house_df[col].nunique()}\")"
      ]
    },
    {
      "cell_type": "code",
      "execution_count": 8,
      "metadata": {},
      "outputs": [
        {
          "name": "stdout",
          "output_type": "stream",
          "text": [
            "Number of duplicate rows: 0\n"
          ]
        }
      ],
      "source": [
        "# Check for any duplicate rows\n",
        "duplicates = house_df.duplicated().sum()\n",
        "print(f\"Number of duplicate rows: {duplicates}\")"
      ]
    },
    {
      "cell_type": "code",
      "execution_count": 9,
      "metadata": {},
      "outputs": [
        {
          "name": "stdout",
          "output_type": "stream",
          "text": [
            "Basic statistics for 'sold_price':\n",
            "count    5.000000e+03\n",
            "mean     7.746262e+05\n",
            "std      3.185556e+05\n",
            "min      1.690000e+05\n",
            "25%      5.850000e+05\n",
            "50%      6.750000e+05\n",
            "75%      8.350000e+05\n",
            "max      5.300000e+06\n",
            "Name: sold_price, dtype: float64\n"
          ]
        }
      ],
      "source": [
        "# Display basic statistics for the 'sold_price' column\n",
        "print(\"Basic statistics for 'sold_price':\")\n",
        "print(house_df['sold_price'].describe())"
      ]
    },
    {
      "cell_type": "code",
      "execution_count": 10,
      "metadata": {},
      "outputs": [
        {
          "name": "stdout",
          "output_type": "stream",
          "text": [
            "Number of invalid (<=0) sold prices: 0\n"
          ]
        }
      ],
      "source": [
        "# Check for any negative or zero values in 'sold_price'\n",
        "invalid_prices = house_df[house_df['sold_price'] <= 0]\n",
        "print(f\"Number of invalid (<=0) sold prices: {len(invalid_prices)}\")"
      ]
    },
    {
      "cell_type": "code",
      "execution_count": 11,
      "metadata": {},
      "outputs": [
        {
          "name": "stdout",
          "output_type": "stream",
          "text": [
            "Minimum year: 0\n",
            "Maximum year: 2019\n"
          ]
        }
      ],
      "source": [
        "# Display the range of years in 'year_built'\n",
        "print(f\"Minimum year: {house_df['year_built'].min()}\")\n",
        "print(f\"Maximum year: {house_df['year_built'].max()}\")"
      ]
    },
    {
      "cell_type": "markdown",
      "metadata": {},
      "source": [
        "<font size=\"5\">**Renaming columns:** </font>"
      ]
    },
    {
      "cell_type": "markdown",
      "metadata": {},
      "source": [
        "<font size=\"3\">Here, I rename some columns for more consistency and readability </font>"
      ]
    },
    {
      "cell_type": "code",
      "execution_count": 12,
      "metadata": {},
      "outputs": [
        {
          "name": "stdout",
          "output_type": "stream",
          "text": [
            "Columns after modification: \n",
            " Index(['mls', 'price', 'zipcode', 'longitude', 'latitude', 'lot_acres',\n",
            "       'taxes', 'year_built', 'bedrooms', 'bathrooms', 'sqrt_ft', 'garage',\n",
            "       'kitchen_features', 'fireplaces', 'floor_covering', 'hoa'],\n",
            "      dtype='object')\n"
          ]
        }
      ],
      "source": [
        "newColumns = {'MLS': \"mls\",'sold_price': \"price\", \"HOA\": \"hoa\"}\n",
        "house_df.rename(columns=newColumns, inplace=True)\n",
        "\n",
        "print(f\"Columns after modification: \\n {house_df.columns}\")"
      ]
    },
    {
      "cell_type": "markdown",
      "metadata": {},
      "source": [
        "## <font size=\"5\">**Initial EDA using plots** </font>"
      ]
    },
    {
      "cell_type": "code",
      "execution_count": 13,
      "metadata": {},
      "outputs": [
        {
          "name": "stdout",
          "output_type": "stream",
          "text": [
            "heatMapOfMissingValues_before is saved!\n"
          ]
        },
        {
          "name": "stderr",
          "output_type": "stream",
          "text": [
            "C:\\Users\\Younes Abaroudi\\AppData\\Local\\Temp\\ipykernel_22312\\3270685383.py:56: FutureWarning: \n",
            "\n",
            "Passing `palette` without assigning `hue` is deprecated and will be removed in v0.14.0. Assign the `x` variable to `hue` and set `legend=False` for the same effect.\n",
            "\n",
            "  sns.violinplot(x='bedrooms', y='price', data=house_df, palette='muted')\n",
            "C:\\Users\\Younes Abaroudi\\AppData\\Local\\Temp\\ipykernel_22312\\3270685383.py:110: FutureWarning: \n",
            "\n",
            "Passing `palette` without assigning `hue` is deprecated and will be removed in v0.14.0. Assign the `x` variable to `hue` and set `legend=False` for the same effect.\n",
            "\n",
            "  sns.barplot(x='zipcode', y='price', data=zipcode_data, palette='viridis')\n"
          ]
        },
        {
          "name": "stdout",
          "output_type": "stream",
          "text": [
            "All visualizations have been created and saved.\n"
          ]
        }
      ],
      "source": [
        "# 2. Heatmap of Missing Values - BEFORE\n",
        "plt.figure(figsize=(14, 12))\n",
        "sns.heatmap(house_df.isnull(), cbar=False, cmap='viridis', yticklabels=False)\n",
        "plt.title('Heatmap of Missing Values - BEFORE', fontsize=12)\n",
        "plt.savefig('plots_before/2-heatMapOfMissingValues.png')\n",
        "plt.close()\n",
        "print(\"heatMapOfMissingValues_before is saved!\")\n",
        "\n",
        "# 3. Histogram of sold prices\n",
        "plt.figure(figsize=(10, 6))\n",
        "plt.hist(house_df['price'], bins=30, edgecolor='black')\n",
        "plt.title('Distribution of Sold Prices', fontsize=16)\n",
        "plt.xlabel('Sold Price ($)', fontsize=12)\n",
        "plt.ylabel('Frequency', fontsize=12)\n",
        "plt.savefig('plots_before/3-sold_price_distribution.png')\n",
        "plt.close()\n",
        "\n",
        "# 4. Correlation heatmap of key numerical features\n",
        "key_features = ['price', 'lot_acres', 'taxes', 'year_built', 'bedrooms', 'bathrooms', 'sqrt_ft']\n",
        "plt.figure(figsize=(12, 10))\n",
        "corr_matrix = house_df[key_features].corr()\n",
        "sns.heatmap(corr_matrix, annot=True, fmt=\".2f\", cmap='coolwarm', cbar=True)\n",
        "plt.title('Correlation Matrix of Key Features', fontsize=16)\n",
        "plt.savefig('plots_before/4-correlation_heatmap.png')\n",
        "plt.close()\n",
        "\n",
        "# 5. Box plots of key numerical features\n",
        "plt.figure(figsize=(14, 8))\n",
        "house_df[key_features].boxplot()\n",
        "plt.title('Box Plots of Key Numerical Features', fontsize=16)\n",
        "plt.xticks(rotation=45)\n",
        "plt.savefig('plots_before/5-boxplots_key_features.png')\n",
        "plt.close()\n",
        "\n",
        "# 6. Scatter plot of longitude vs latitude (geographical distribution)\n",
        "plt.figure(figsize=(12, 8))\n",
        "scatter = plt.scatter(house_df['longitude'], house_df['latitude'], c=house_df['price'], cmap='viridis', alpha=0.6)\n",
        "plt.colorbar(scatter, label='Sold Price ($)')\n",
        "plt.title('Geographical Distribution of Houses', fontsize=16)\n",
        "plt.xlabel('Longitude', fontsize=12)\n",
        "plt.ylabel('Latitude', fontsize=12)\n",
        "plt.savefig('plots_before/6-geographical_distribution.png')\n",
        "plt.close()\n",
        "\n",
        "# 7. Bar plot of average sold price by number of bedrooms\n",
        "avg_price_by_bedrooms = house_df.groupby('bedrooms')['price'].mean().sort_index()\n",
        "plt.figure(figsize=(12, 6))\n",
        "avg_price_by_bedrooms.plot(kind='bar')\n",
        "plt.title('Average Sold Price by Number of Bedrooms', fontsize=16)\n",
        "plt.xlabel('Number of Bedrooms', fontsize=12)\n",
        "plt.ylabel('Average Sold Price ($)', fontsize=12)\n",
        "plt.savefig('plots_before/7-avg_price_by_bedrooms_1_barPlot.png')\n",
        "plt.close()\n",
        "\n",
        "# 7. Violin plot of average sold price by number of bedrooms\n",
        "sns.violinplot(x='bedrooms', y='price', data=house_df, palette='muted')\n",
        "plt.title('Price Distribution by Number of Bedrooms')\n",
        "plt.xlabel('Number of Bedrooms')\n",
        "plt.ylabel('Sold Price')\n",
        "plt.savefig('plots_before/7-avg_price_by_bedrooms_2_violinPlot.png')\n",
        "plt.close()\n",
        "\n",
        "# 8. Top 10 kitchen features\n",
        "top_kitchen_features = house_df['kitchen_features'].value_counts().nlargest(10)\n",
        "plt.figure(figsize=(12, 6))\n",
        "top_kitchen_features.plot(kind='bar')\n",
        "plt.title('Top 10 Kitchen Features', fontsize=16)\n",
        "plt.xlabel('Kitchen Features', fontsize=12)\n",
        "plt.ylabel('Count', fontsize=12)\n",
        "plt.xticks(rotation=45, ha='right')\n",
        "plt.tight_layout()\n",
        "plt.savefig('plots_before/8-top_kitchen_features.png')\n",
        "plt.close()\n",
        "\n",
        "# 9. Scatter plot of year built vs sold price\n",
        "plt.figure(figsize=(10, 6))\n",
        "plt.scatter(house_df['year_built'], house_df['price'], alpha=0.5)\n",
        "plt.title('Year Built vs Sold Price', fontsize=16)\n",
        "plt.xlabel('Year Built', fontsize=12)\n",
        "plt.ylabel('Sold Price ($)', fontsize=12)\n",
        "plt.savefig('plots_before/9-year_built_vs_sold_price.png')\n",
        "plt.close()\n",
        "\n",
        "# 10. Histogram plots of numerical features:\n",
        "numeric_df = house_df.select_dtypes(include=['float64', 'int64'])\n",
        "numeric_df.hist(bins=30, figsize=(14, 10), color='yellow', edgecolor='red')\n",
        "plt.suptitle('Histograms of Numerical Features', fontsize=22)\n",
        "plt.savefig('plots_before/10-histogram_numerical_features.png')\n",
        "plt.close()\n",
        "\n",
        "# 11. Reg plot of Sold Price vs. Square Footage:\n",
        "plt.figure(figsize=(12, 8))\n",
        "sns.regplot(x='sqrt_ft', y='price', data=house_df, scatter_kws={'alpha':0.5}, line_kws={'color':'red'})\n",
        "plt.title('Sold Price vs. Square Footage')\n",
        "plt.xlabel('Square Footage')\n",
        "plt.ylabel('Sold Price')\n",
        "plt.savefig('plots_before/11-soldPrice_vs_squareFootage.png')\n",
        "plt.close()\n",
        "\n",
        "# 12. Visualizing the average sold price by zipcode\n",
        "# Aggregating data by zip code\n",
        "zipcode_data = house_df.groupby('zipcode').agg({\n",
        "    'price': 'mean',\n",
        "    'mls': 'count',  # Assuming MLS is a unique identifier for properties\n",
        "    'lot_acres': 'mean',\n",
        "    'bedrooms': 'mean'\n",
        "}).reset_index()\n",
        "\n",
        "plt.figure(figsize=(12, 8))\n",
        "sns.barplot(x='zipcode', y='price', data=zipcode_data, palette='viridis')\n",
        "plt.title('Average Sold Price by Zipcode')\n",
        "plt.xlabel('Zipcode')\n",
        "plt.ylabel('Average Sold Price')\n",
        "plt.xticks(rotation=45)\n",
        "plt.savefig('plots_before/12-averageSoldPrice_by_zipCode.png')\n",
        "plt.close()\n",
        "\n",
        "# 13. Pair plot of Key Features\n",
        "\n",
        "sns.pairplot(house_df, diag_kind='kde', plot_kws={'alpha':0.5}, markers='+',\n",
        "             vars=['price', 'lot_acres', 'taxes', 'bedrooms', 'sqrt_ft', 'garage'])\n",
        "\n",
        "plt.suptitle('Pairplot of Key Features', y=1.02)\n",
        "plt.savefig('plots_before/13-pairPlot_keyFeatures.png')\n",
        "plt.close()\n",
        "plt.show()\n",
        "\n",
        "\n",
        "print(\"All visualizations have been created and saved.\")"
      ]
    },
    {
      "cell_type": "markdown",
      "metadata": {},
      "source": [
        "## <font size=\"5\">**Handling missing values and Data Quality issues** </font>"
      ]
    },
    {
      "cell_type": "code",
      "execution_count": 14,
      "metadata": {},
      "outputs": [],
      "source": [
        "threshold = len(house_df) * 0.1\n",
        "house_df = house_df.dropna(thresh=threshold, axis=1)"
      ]
    },
    {
      "cell_type": "markdown",
      "metadata": {},
      "source": [
        "<font size=\"3\">We don't have any deletions since the missing values are fewer, we can completely drop them but I would prefer use the median and mode() to impute the missing values so we can have more data for trainning the model. Consider dropping them completely if we get inaccurate result after implementing the model.</font>"
      ]
    },
    {
      "cell_type": "markdown",
      "metadata": {},
      "source": [
        "<font size=\"3\">**Handling missing Values in numerical and categorical columns** </font>\n"
      ]
    },
    {
      "cell_type": "code",
      "execution_count": 15,
      "metadata": {},
      "outputs": [
        {
          "name": "stdout",
          "output_type": "stream",
          "text": [
            "Post-Check for missing values:\n"
          ]
        },
        {
          "data": {
            "text/plain": [
              "mls                 0\n",
              "price               0\n",
              "zipcode             0\n",
              "longitude           0\n",
              "latitude            0\n",
              "lot_acres           0\n",
              "taxes               0\n",
              "year_built          0\n",
              "bedrooms            0\n",
              "bathrooms           0\n",
              "sqrt_ft             0\n",
              "garage              0\n",
              "kitchen_features    0\n",
              "fireplaces          0\n",
              "floor_covering      0\n",
              "hoa                 0\n",
              "dtype: int64"
            ]
          },
          "execution_count": 15,
          "metadata": {},
          "output_type": "execute_result"
        }
      ],
      "source": [
        "# 1. Handle missing values\n",
        "def impute_missing_values(df):\n",
        "    # Impute numerical columns with median\n",
        "    numeric_columns = df.select_dtypes(include=['float64', 'int64']).columns\n",
        "    for col in numeric_columns:\n",
        "        df[col] = df[col].fillna(df[col].median())\n",
        "    \n",
        "    # Impute categorical columns with mode\n",
        "    categorical_columns = df.select_dtypes(include=['object']).columns\n",
        "    for col in categorical_columns:\n",
        "        df[col] = df[col].fillna(df[col].mode()[0])\n",
        "    \n",
        "    return df\n",
        "\n",
        "house_df = impute_missing_values(house_df)\n",
        "\n",
        "print(\"Post-Check for missing values:\")\n",
        "house_df.isnull().sum()"
      ]
    },
    {
      "cell_type": "markdown",
      "metadata": {},
      "source": [
        "<font size=\"5\">**Correct data quality issues** </font> <br><br>\n",
        "<font size=\"3\"> Handling data quality issues and outliers </font>"
      ]
    },
    {
      "cell_type": "code",
      "execution_count": 16,
      "metadata": {},
      "outputs": [],
      "source": [
        "# 2. Correct data quality issues\n",
        "house_df.loc[house_df['year_built'] == 0, 'year_built'] = house_df['year_built'].median()\n",
        "house_df['bedrooms'] = house_df['bedrooms'].clip(upper=10)\n",
        "house_df['bathrooms'] = house_df['bathrooms'].clip(upper=10)\n",
        "\n",
        "# # 4. Normalize numerical features\n",
        "# numerical_columns = house_df.select_dtypes(include=['float64', 'int64']).columns\n",
        "# house_df[numerical_columns] = (house_df[numerical_columns] - house_df[numerical_columns].mean()) / house_df[numerical_columns].std()"
      ]
    },
    {
      "cell_type": "markdown",
      "metadata": {},
      "source": [
        "<font size=\"5\">**Initial feature engineering** </font> <br> <br>\n",
        "<font size=\"3\"> Creating 3 new features:\n",
        "- num_kit_features\n",
        "- bedroom_bathroom_ratio\n",
        "- price_per_sqft \"   </font>"
      ]
    },
    {
      "cell_type": "code",
      "execution_count": 17,
      "metadata": {},
      "outputs": [],
      "source": [
        "# Create Number of kitchen feature:\n",
        "house_df[\"num_kit_features\"] = house_df[\"kitchen_features\"].str.split(\",\").apply(len)\n",
        "house_df[\"num_kit_features\"]\n",
        "\n",
        "# Create bedroom_bathroom_ratio feature:\n",
        "house_df['bedroom_bathroom_ratio'] = house_df['bedrooms'] / house_df['bathrooms']\n",
        "\n",
        "# Create price_per_sqft feature:\n",
        "house_df['price_per_sqrt'] = house_df['price'] / house_df['sqrt_ft']"
      ]
    },
    {
      "cell_type": "markdown",
      "metadata": {},
      "source": [
        "## <font size=\"5\">**Handling Outliers** </font>"
      ]
    },
    {
      "cell_type": "markdown",
      "metadata": {},
      "source": [
        "*Chosen solution-01:* IQR Method for \"price\" feature <br> <br>\n",
        "<font size=\"2\">*Justifying the solution:*\n",
        "* We have a right-skewed distribution: The distribution is not symmetric and is skewed to the right, it indicates that the data is not normally distributed. So we will use IQR method to handle the outliers instead of the zscore method</font>\n",
        "\n",
        "*Chosen solution-02:* Zscore Method for the following features('lot_acres', 'taxes', 'sqrt_ft')\" <br> <br>"
      ]
    },
    {
      "cell_type": "code",
      "execution_count": 18,
      "metadata": {},
      "outputs": [],
      "source": [
        "# Defining method for detecting outliners using IQR method\n",
        "def remove_outliers_iqr(df, columns):\n",
        "    for col in columns:\n",
        "        Q1 = df[col].quantile(0.25)\n",
        "        Q3 = df[col].quantile(0.75)\n",
        "        IQR = Q3 - Q1\n",
        "        lower_bound = Q1 - 1.5 * IQR\n",
        "        upper_bound = Q3 + 1.5 * IQR\n",
        "\n",
        "        df = df[(df[col] >= lower_bound) & (df[col] <= upper_bound)]\n",
        "    return df\n",
        "\n",
        "# Defining method for detecting outliners using Zscore method\n",
        "def remove_outliers_zscore(df, columns, n_std=3):\n",
        "    for col in columns:\n",
        "        mean = df[col].mean()\n",
        "        std = df[col].std()\n",
        "        df = df[(df[col] >= mean - n_std * std) & (df[col] <= mean + n_std * std)]\n",
        "    return df\n",
        "\n",
        "\n",
        "# Applying methods to remove outliers\n",
        "house_df = remove_outliers_zscore(house_df, [\"taxes\"], n_std=3)\n",
        "house_df = remove_outliers_zscore(house_df, [\"sqrt_ft\"], n_std=3)\n",
        "house_df = remove_outliers_zscore(house_df, [\"year_built\"], n_std=3)\n",
        "\n",
        "outlier_columns_iqr = ['lot_acres']\n",
        "house_df = remove_outliers_iqr(house_df, outlier_columns_iqr)"
      ]
    },
    {
      "cell_type": "markdown",
      "metadata": {},
      "source": [
        "<font size=\"5\">**Data type consistency** </font> <br> <br>\n",
        "<font size=\"3\"> The purpose of this phase to make the data types consistent\"   </font>"
      ]
    },
    {
      "cell_type": "code",
      "execution_count": 19,
      "metadata": {},
      "outputs": [
        {
          "name": "stdout",
          "output_type": "stream",
          "text": [
            "Data types post-rectification:\n"
          ]
        },
        {
          "data": {
            "text/plain": [
              "mls                         int64\n",
              "price                     float64\n",
              "zipcode                     int64\n",
              "longitude                 float64\n",
              "latitude                  float64\n",
              "lot_acres                 float64\n",
              "taxes                     float64\n",
              "year_built                  int64\n",
              "bedrooms                    int64\n",
              "bathrooms                   int64\n",
              "sqrt_ft                   float64\n",
              "garage                      int64\n",
              "kitchen_features           object\n",
              "fireplaces                  int64\n",
              "floor_covering             object\n",
              "hoa                         int64\n",
              "num_kit_features            int64\n",
              "bedroom_bathroom_ratio    float64\n",
              "price_per_sqrt            float64\n",
              "dtype: object"
            ]
          },
          "execution_count": 19,
          "metadata": {},
          "output_type": "execute_result"
        }
      ],
      "source": [
        "# Convert from object type to float64\n",
        "house_df['fireplaces'] = pd.to_numeric(house_df['fireplaces'], errors=\"coerce\").fillna(0).astype(int)\n",
        "house_df['hoa'] = pd.to_numeric(house_df['hoa'], errors=\"coerce\").fillna(0).astype(int)\n",
        "\n",
        "# Convert from float to int\n",
        "house_df[\"bathrooms\"] = house_df[\"bathrooms\"].astype(int)\n",
        "house_df[\"garage\"] = house_df[\"garage\"].astype(int)\n",
        "\n",
        "print(\"Data types post-rectification:\")\n",
        "house_df.dtypes"
      ]
    },
    {
      "cell_type": "markdown",
      "metadata": {},
      "source": [
        "**Post check dataset after clean up**"
      ]
    },
    {
      "cell_type": "code",
      "execution_count": 20,
      "metadata": {},
      "outputs": [
        {
          "name": "stdout",
          "output_type": "stream",
          "text": [
            "Cleaned dataset shape:{house_df.shape}\n",
            "\n",
            "Cleaned Dataset Information:\n",
            "<class 'pandas.core.frame.DataFrame'>\n",
            "Index: 4203 entries, 4 to 4998\n",
            "Data columns (total 19 columns):\n",
            " #   Column                  Non-Null Count  Dtype  \n",
            "---  ------                  --------------  -----  \n",
            " 0   mls                     4203 non-null   int64  \n",
            " 1   price                   4203 non-null   float64\n",
            " 2   zipcode                 4203 non-null   int64  \n",
            " 3   longitude               4203 non-null   float64\n",
            " 4   latitude                4203 non-null   float64\n",
            " 5   lot_acres               4203 non-null   float64\n",
            " 6   taxes                   4203 non-null   float64\n",
            " 7   year_built              4203 non-null   int64  \n",
            " 8   bedrooms                4203 non-null   int64  \n",
            " 9   bathrooms               4203 non-null   int64  \n",
            " 10  sqrt_ft                 4203 non-null   float64\n",
            " 11  garage                  4203 non-null   int64  \n",
            " 12  kitchen_features        4203 non-null   object \n",
            " 13  fireplaces              4203 non-null   int64  \n",
            " 14  floor_covering          4203 non-null   object \n",
            " 15  hoa                     4203 non-null   int64  \n",
            " 16  num_kit_features        4203 non-null   int64  \n",
            " 17  bedroom_bathroom_ratio  4203 non-null   float64\n",
            " 18  price_per_sqrt          4203 non-null   float64\n",
            "dtypes: float64(8), int64(9), object(2)\n",
            "memory usage: 656.7+ KB\n",
            "None\n",
            "\n",
            "Summary Statistics of Cleaned Dataset:\n",
            "                mls         price       zipcode    longitude     latitude  \\\n",
            "count  4.203000e+03  4.203000e+03   4203.000000  4203.000000  4203.000000   \n",
            "mean   2.137517e+07  7.574071e+05  85724.660481  -110.920075    32.331400   \n",
            "std    1.982542e+06  2.720880e+05     33.670734     0.091211     0.132222   \n",
            "min    3.042851e+06  1.690000e+05  85118.000000  -111.430863    31.451945   \n",
            "25%    2.140753e+07  5.840000e+05  85718.000000  -110.978280    32.291521   \n",
            "50%    2.161464e+07  6.740000e+05  85737.000000  -110.923607    32.322173   \n",
            "75%    2.180522e+07  8.250000e+05  85750.000000  -110.862144    32.404579   \n",
            "max    2.192856e+07  3.411450e+06  85935.000000  -109.861617    34.314889   \n",
            "\n",
            "         lot_acres         taxes   year_built     bedrooms    bathrooms  \\\n",
            "count  4203.000000   4203.000000  4203.000000  4203.000000  4203.000000   \n",
            "mean      1.052929   6620.308330  1996.327385     3.857959     3.731858   \n",
            "std       0.781567   3204.701471    14.637387     0.817206     0.918995   \n",
            "min       0.000000      0.000000  1942.000000     2.000000     2.000000   \n",
            "25%       0.535000   4782.975000  1989.000000     3.000000     3.000000   \n",
            "50%       0.890000   6138.000000  2000.000000     4.000000     4.000000   \n",
            "75%       1.220000   7887.255000  2006.000000     4.000000     4.000000   \n",
            "max       3.360000  30072.260000  2019.000000    10.000000    10.000000   \n",
            "\n",
            "           sqrt_ft       garage   fireplaces          hoa  num_kit_features  \\\n",
            "count  4203.000000  4203.000000  4203.000000  4203.000000       4203.000000   \n",
            "mean   3596.675708     2.793719     1.802522    80.629788          6.572924   \n",
            "std     837.733410     0.956721     1.064338    91.108505          2.966110   \n",
            "min    1690.000000     0.000000     0.000000     0.000000          1.000000   \n",
            "25%    3038.000000     2.000000     1.000000     5.000000          5.000000   \n",
            "50%    3476.000000     3.000000     2.000000    54.000000          5.000000   \n",
            "75%    4020.000000     3.000000     2.000000   133.000000          9.000000   \n",
            "max    7002.000000    30.000000     7.000000   925.000000         15.000000   \n",
            "\n",
            "       bedroom_bathroom_ratio  price_per_sqrt  \n",
            "count             4203.000000     4203.000000  \n",
            "mean                 1.070273      212.773296  \n",
            "std                  0.259866       60.443429  \n",
            "min                  0.500000       81.013404  \n",
            "25%                  1.000000      177.593064  \n",
            "50%                  1.000000      203.423120  \n",
            "75%                  1.333333      233.971073  \n",
            "max                  2.500000      969.305331  \n"
          ]
        }
      ],
      "source": [
        "print(\"Cleaned dataset shape:{house_df.shape}\")\n",
        "\n",
        "# Display summary of the cleaned dataset\n",
        "print(\"\\nCleaned Dataset Information:\")\n",
        "print(house_df.info())\n",
        "print(\"\\nSummary Statistics of Cleaned Dataset:\")\n",
        "print(house_df.describe())"
      ]
    },
    {
      "cell_type": "code",
      "execution_count": 21,
      "metadata": {},
      "outputs": [
        {
          "data": {
            "text/plain": [
              "floor_covering\n",
              "Carpet, Ceramic Tile                               1144\n",
              "Carpet, Natural Stone                               521\n",
              "Carpet, Ceramic Tile, Wood                          219\n",
              "Ceramic Tile                                        201\n",
              "Concrete                                            196\n",
              "                                                   ... \n",
              "Ceramic Tile, Other: porcelain wood tile              1\n",
              "Carpet, Ceramic Tile, Other: Wood Laminate            1\n",
              "Carpet, Ceramic Tile, Other: Wood Plan Laminate       1\n",
              "Carpet, Other: Marble                                 1\n",
              "Concrete, Other: Cork                                 1\n",
              "Name: count, Length: 256, dtype: int64"
            ]
          },
          "execution_count": 21,
          "metadata": {},
          "output_type": "execute_result"
        }
      ],
      "source": [
        "house_df[\"floor_covering\"].value_counts()"
      ]
    },
    {
      "cell_type": "markdown",
      "metadata": {},
      "source": [
        "## **Encode all categorical variables**"
      ]
    },
    {
      "cell_type": "code",
      "execution_count": 22,
      "metadata": {},
      "outputs": [],
      "source": [
        "# 5. Encode all categorical variables\n",
        "house_df = pd.get_dummies(house_df, columns=[\"floor_covering\"], drop_first=True)"
      ]
    },
    {
      "cell_type": "code",
      "execution_count": 23,
      "metadata": {},
      "outputs": [
        {
          "data": {
            "text/plain": [
              "(4203, 273)"
            ]
          },
          "execution_count": 23,
          "metadata": {},
          "output_type": "execute_result"
        }
      ],
      "source": [
        "house_df.shape"
      ]
    },
    {
      "cell_type": "markdown",
      "metadata": {},
      "source": [
        "## <font size=\"5\">**EDA after data clean up** </font>"
      ]
    },
    {
      "cell_type": "markdown",
      "metadata": {},
      "source": [
        "The purpose of doing the EDA after cleaning the data is to ensure that the data is clean and ready to push to the Model team."
      ]
    },
    {
      "cell_type": "code",
      "execution_count": 24,
      "metadata": {},
      "outputs": [
        {
          "name": "stdout",
          "output_type": "stream",
          "text": [
            "heatMapOfMissingValues is saved!\n"
          ]
        },
        {
          "name": "stderr",
          "output_type": "stream",
          "text": [
            "C:\\Users\\Younes Abaroudi\\AppData\\Local\\Temp\\ipykernel_22312\\918962222.py:56: FutureWarning: \n",
            "\n",
            "Passing `palette` without assigning `hue` is deprecated and will be removed in v0.14.0. Assign the `x` variable to `hue` and set `legend=False` for the same effect.\n",
            "\n",
            "  sns.violinplot(x='bedrooms', y='price', data=house_df, palette='muted')\n",
            "C:\\Users\\Younes Abaroudi\\AppData\\Local\\Temp\\ipykernel_22312\\918962222.py:110: FutureWarning: \n",
            "\n",
            "Passing `palette` without assigning `hue` is deprecated and will be removed in v0.14.0. Assign the `x` variable to `hue` and set `legend=False` for the same effect.\n",
            "\n",
            "  sns.barplot(x='zipcode', y='price', data=zipcode_data, palette='viridis')\n"
          ]
        },
        {
          "name": "stdout",
          "output_type": "stream",
          "text": [
            "All visualizations have been created and saved.\n"
          ]
        }
      ],
      "source": [
        "# 2. Heatmap of Missing Values - BEFORE\n",
        "plt.figure(figsize=(14, 12))\n",
        "sns.heatmap(house_df.isnull(), cbar=False, cmap='viridis', yticklabels=False)\n",
        "plt.title('Heatmap of Missing Values - AFTER', fontsize=12)\n",
        "plt.savefig('plots_before/2-heatMapOfMissingValues.png')\n",
        "plt.close()\n",
        "print(\"heatMapOfMissingValues is saved!\")\n",
        "\n",
        "# 3. Histogram of sold prices\n",
        "plt.figure(figsize=(10, 6))\n",
        "plt.hist(house_df['price'], bins=30, edgecolor='black')\n",
        "plt.title('Distribution of Sold Prices', fontsize=16)\n",
        "plt.xlabel('Sold Price ($)', fontsize=12)\n",
        "plt.ylabel('Frequency', fontsize=12)\n",
        "plt.savefig('plots_after/3-sold_price_distribution.png')\n",
        "plt.close()\n",
        "\n",
        "# 4. Correlation heatmap of key numerical features\n",
        "key_features = ['price', 'lot_acres', 'taxes', 'year_built', 'bedrooms', 'bathrooms', 'sqrt_ft']\n",
        "plt.figure(figsize=(12, 10))\n",
        "corr_matrix = house_df[key_features].corr()\n",
        "sns.heatmap(corr_matrix, annot=True, fmt=\".2f\", cmap='coolwarm', cbar=True)\n",
        "plt.title('Correlation Matrix of Key Features', fontsize=16)\n",
        "plt.savefig('plots_after/4-correlation_heatmap.png')\n",
        "plt.close()\n",
        "\n",
        "# 5. Box plots of key numerical features\n",
        "plt.figure(figsize=(14, 8))\n",
        "house_df[key_features].boxplot()\n",
        "plt.title('Box Plots of Key Numerical Features', fontsize=16)\n",
        "plt.xticks(rotation=45)\n",
        "plt.savefig('plots_after/5-boxplots_key_features.png')\n",
        "plt.close()\n",
        "\n",
        "# 6. Scatter plot of longitude vs latitude (geographical distribution)\n",
        "plt.figure(figsize=(12, 8))\n",
        "scatter = plt.scatter(house_df['longitude'], house_df['latitude'], c=house_df['price'], cmap='viridis', alpha=0.6)\n",
        "plt.colorbar(scatter, label='Sold Price ($)')\n",
        "plt.title('Geographical Distribution of Houses', fontsize=16)\n",
        "plt.xlabel('Longitude', fontsize=12)\n",
        "plt.ylabel('Latitude', fontsize=12)\n",
        "plt.savefig('plots_after/6-geographical_distribution.png')\n",
        "plt.close()\n",
        "\n",
        "# 7. Bar plot of average sold price by number of bedrooms\n",
        "avg_price_by_bedrooms = house_df.groupby('bedrooms')['price'].mean().sort_index()\n",
        "plt.figure(figsize=(12, 6))\n",
        "avg_price_by_bedrooms.plot(kind='bar')\n",
        "plt.title('Average Sold Price by Number of Bedrooms', fontsize=16)\n",
        "plt.xlabel('Number of Bedrooms', fontsize=12)\n",
        "plt.ylabel('Average Sold Price ($)', fontsize=12)\n",
        "plt.savefig('plots_after/7-avg_price_by_bedrooms_1_barPlot.png')\n",
        "plt.close()\n",
        "\n",
        "# 7. Violin plot of average sold price by number of bedrooms\n",
        "sns.violinplot(x='bedrooms', y='price', data=house_df, palette='muted')\n",
        "plt.title('Price Distribution by Number of Bedrooms')\n",
        "plt.xlabel('Number of Bedrooms')\n",
        "plt.ylabel('Sold Price')\n",
        "plt.savefig('plots_after/7-avg_price_by_bedrooms_2_violinPlot.png')\n",
        "plt.close()\n",
        "\n",
        "# 8. Top 10 kitchen features\n",
        "top_kitchen_features = house_df['kitchen_features'].value_counts().nlargest(10)\n",
        "plt.figure(figsize=(12, 6))\n",
        "top_kitchen_features.plot(kind='bar')\n",
        "plt.title('Top 10 Kitchen Features', fontsize=16)\n",
        "plt.xlabel('Kitchen Features', fontsize=12)\n",
        "plt.ylabel('Count', fontsize=12)\n",
        "plt.xticks(rotation=45, ha='right')\n",
        "plt.tight_layout()\n",
        "plt.savefig('plots_after/8-top_kitchen_features.png')\n",
        "plt.close()\n",
        "\n",
        "# 9. Scatter plot of year built vs sold price\n",
        "plt.figure(figsize=(10, 6))\n",
        "plt.scatter(house_df['year_built'], house_df['price'], alpha=0.5)\n",
        "plt.title('Year Built vs Sold Price', fontsize=16)\n",
        "plt.xlabel('Year Built', fontsize=12)\n",
        "plt.ylabel('Sold Price ($)', fontsize=12)\n",
        "plt.savefig('plots_after/9-year_built_vs_sold_price.png')\n",
        "plt.close()\n",
        "\n",
        "# 10. Histogram plots of numerical features:\n",
        "numeric_df = house_df.select_dtypes(include=['float64', 'int64'])\n",
        "numeric_df.hist(bins=30, figsize=(14, 10), color='yellow', edgecolor='red')\n",
        "plt.suptitle('Histograms of Numerical Features', fontsize=22)\n",
        "plt.savefig('plots_after/10-histogram_numerical_features.png')\n",
        "plt.close()\n",
        "\n",
        "# 11. Reg plot of Sold Price vs. Square Footage:\n",
        "plt.figure(figsize=(12, 8))\n",
        "sns.regplot(x='sqrt_ft', y='price', data=house_df, scatter_kws={'alpha':0.5}, line_kws={'color':'red'})\n",
        "plt.title('Sold Price vs. Square Footage')\n",
        "plt.xlabel('Square Footage')\n",
        "plt.ylabel('Sold Price')\n",
        "plt.savefig('plots_after/11-soldPrice_vs_squareFootage.png')\n",
        "plt.close()\n",
        "\n",
        "# 12. Visualizing the average sold price by zipcode\n",
        "# Aggregating data by zip code\n",
        "zipcode_data = house_df.groupby('zipcode').agg({\n",
        "    'price': 'mean',\n",
        "    'mls': 'count',  # Assuming MLS is a unique identifier for properties\n",
        "    'lot_acres': 'mean',\n",
        "    'bedrooms': 'mean'\n",
        "}).reset_index()\n",
        "\n",
        "plt.figure(figsize=(12, 8))\n",
        "sns.barplot(x='zipcode', y='price', data=zipcode_data, palette='viridis')\n",
        "plt.title('Average Sold Price by Zipcode')\n",
        "plt.xlabel('Zipcode')\n",
        "plt.ylabel('Average Sold Price')\n",
        "plt.xticks(rotation=45)\n",
        "plt.savefig('plots_after/12-averageSoldPrice_by_zipCode.png')\n",
        "plt.close()\n",
        "\n",
        "# 13. Pair plot of Key Features\n",
        "sns.pairplot(house_df, diag_kind='kde', plot_kws={'alpha':0.5}, markers='+',\n",
        "             vars=['price', 'lot_acres', 'taxes', 'bedrooms', 'sqrt_ft', 'garage', \"num_kit_features\"])\n",
        "\n",
        "plt.suptitle('Pairplot of Key Features', y=1.02)\n",
        "plt.savefig('plots_after/13-pairPlot_keyFeatures.png')\n",
        "plt.close()\n",
        "plt.show()\n",
        "\n",
        "print(\"All visualizations have been created and saved.\")"
      ]
    },
    {
      "cell_type": "markdown",
      "metadata": {},
      "source": [
        "## <font size=\"5\">**Saving the cleaned dataset post-EDA** </font>"
      ]
    },
    {
      "cell_type": "code",
      "execution_count": 25,
      "metadata": {},
      "outputs": [],
      "source": [
        "house_df.to_csv(\"raw_house_data_cleaned.csv\")"
      ]
    }
  ],
  "metadata": {
    "colab": {
      "provenance": []
    },
    "kernelspec": {
      "display_name": "Python 3",
      "name": "python3"
    },
    "language_info": {
      "codemirror_mode": {
        "name": "ipython",
        "version": 3
      },
      "file_extension": ".py",
      "mimetype": "text/x-python",
      "name": "python",
      "nbconvert_exporter": "python",
      "pygments_lexer": "ipython3",
      "version": "3.12.5"
    }
  },
  "nbformat": 4,
  "nbformat_minor": 0
}
